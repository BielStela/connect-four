{
 "cells": [
  {
   "cell_type": "markdown",
   "metadata": {},
   "source": [
    "# Algorithm experiments notebook (dirty AF)"
   ]
  },
  {
   "cell_type": "markdown",
   "metadata": {
    "collapsed": true
   },
   "source": [
    "## Todo:\n",
    "* Define a class that holds the state of the table **DONE**\n",
    "* player 1 and 2 auto switch\n",
    "* winning rule **DONE**\n",
    "* droping physics **DONE**"
   ]
  },
  {
   "cell_type": "code",
   "execution_count": 11,
   "metadata": {
    "collapsed": true
   },
   "outputs": [],
   "source": [
    "import numpy as np\n",
    "\n",
    "class Table():\n",
    "        \n",
    "    def __init__(self):\n",
    "        self.table = np.zeros((6,7), dtype=int)\n",
    "    \n",
    "    def winning_check(self)-> bool:\n",
    "        \n",
    "        def _winning_rule(arr):\n",
    "            unique = np.unique(arr, return_counts=True)\n",
    "            winning_player = unique[0][unique[1] > 3]\n",
    "            return winning_player\n",
    "        \n",
    "        def _get_diagonals(a):\n",
    "            # hacky getting all the diagonals\n",
    "            diags = [a[::-1,:].diagonal(i) for i in range(-a.shape[0]+1,a.shape[1])]\n",
    "            diags.extend(a.diagonal(i) for i in range(a.shape[1]-1,-a.shape[0],-1))\n",
    "            return diags\n",
    "\n",
    "        def _get_axes(_table):\n",
    "            axes = []\n",
    "            for i in range(_table.shape[0]):\n",
    "                axes.append(_table[i,:])\n",
    "            for j in range(_table.shape[1]):\n",
    "                axes.append(_table[:,j])\n",
    "            return axes\n",
    "        \n",
    "        all_axes = []\n",
    "        all_axes.extend(_get_axes(self.table))\n",
    "        all_axes.extend(_get_diagonals(self.table))\n",
    "        \n",
    "        for ax in all_axes:\n",
    "            winner = _winning_rule(ax)\n",
    "            if not  winner:\n",
    "                # no winner yet\n",
    "                pass\n",
    "            else:\n",
    "                # winner!\n",
    "                return True\n",
    "        \n",
    "    def drop(self, player, j):\n",
    "        colummn_vec = self.table[:,j]\n",
    "        non_zero = np.where(colummn_vec != 0)[0]\n",
    "        \n",
    "        if non_zero.size == 0:                        \n",
    "            # sets the stone to the last element \n",
    "            self.table[self.table.shape[0]-1,j] = player\n",
    "        else:                                          \n",
    "            # sets the stone on the last 0\n",
    "            self.table[non_zero[0]-1,j] = player\n",
    "        # checking if winning for every drop!\n",
    "        if self.winning_check():\n",
    "            print(f'Player {player} wins!')\n",
    "        else:\n",
    "            return self.table \n",
    "    \n",
    "    def reset(self):\n",
    "        return self.__init__"
   ]
  },
  {
   "cell_type": "code",
   "execution_count": 1,
   "metadata": {
    "collapsed": true
   },
   "outputs": [],
   "source": [
    "import numpy as np"
   ]
  },
  {
   "cell_type": "code",
   "execution_count": 2,
   "metadata": {
    "collapsed": true
   },
   "outputs": [],
   "source": [
    "mat = np.arange(42).reshape((6,7))"
   ]
  },
  {
   "cell_type": "code",
   "execution_count": 3,
   "metadata": {},
   "outputs": [
    {
     "data": {
      "text/plain": [
       "array([[ 0,  1,  2,  3,  4,  5,  6],\n",
       "       [ 7,  8,  9, 10, 11, 12, 13],\n",
       "       [14, 15, 16, 17, 18, 19, 20],\n",
       "       [21, 22, 23, 24, 25, 26, 27],\n",
       "       [28, 29, 30, 31, 32, 33, 34],\n",
       "       [35, 36, 37, 38, 39, 40, 41]])"
      ]
     },
     "execution_count": 3,
     "metadata": {},
     "output_type": "execute_result"
    }
   ],
   "source": [
    "mat"
   ]
  },
  {
   "cell_type": "markdown",
   "metadata": {},
   "source": [
    "### Get diagonals that intersect `[i,j]`"
   ]
  },
  {
   "cell_type": "code",
   "execution_count": 5,
   "metadata": {},
   "outputs": [
    {
     "data": {
      "text/plain": [
       "array([ 1,  9, 17, 25, 33, 41])"
      ]
     },
     "execution_count": 5,
     "metadata": {},
     "output_type": "execute_result"
    }
   ],
   "source": [
    "mat.diagonal(1)"
   ]
  },
  {
   "cell_type": "code",
   "execution_count": 13,
   "metadata": {},
   "outputs": [
    {
     "name": "stdout",
     "output_type": "stream",
     "text": [
      "41\n",
      "[ 1  9 17 25 33 41]\n",
      "[41]\n"
     ]
    }
   ],
   "source": [
    "i, j = 5, 6\n",
    "print(mat[i,j])\n",
    "major = np.diagonal(mat, offset=(j - i))\n",
    "print(major)\n",
    "\n",
    "minor = np.diagonal(np.rot90(mat), offset=-mat.shape[1] + (j + i) + 1)\n",
    "print(minor)"
   ]
  },
  {
   "cell_type": "markdown",
   "metadata": {},
   "source": [
    "### Get row and column array that pass throught `[i,j]`"
   ]
  },
  {
   "cell_type": "code",
   "execution_count": 14,
   "metadata": {},
   "outputs": [
    {
     "name": "stdout",
     "output_type": "stream",
     "text": [
      "[35 36 37 38 39 40 41]\n",
      "[ 6 13 20 27 34 41]\n"
     ]
    }
   ],
   "source": [
    "row = mat[i,:]\n",
    "col = mat[:,j]\n",
    "print(row)\n",
    "print(col)"
   ]
  },
  {
   "cell_type": "code",
   "execution_count": 17,
   "metadata": {},
   "outputs": [
    {
     "name": "stdout",
     "output_type": "stream",
     "text": [
      "542 ns ± 52.3 ns per loop (mean ± std. dev. of 7 runs, 1000000 loops each)\n"
     ]
    }
   ],
   "source": [
    "%timeit x = np.zeros((6,7))"
   ]
  },
  {
   "cell_type": "code",
   "execution_count": 19,
   "metadata": {},
   "outputs": [
    {
     "name": "stdout",
     "output_type": "stream",
     "text": [
      "511 ns ± 26.7 ns per loop (mean ± std. dev. of 7 runs, 1000000 loops each)\n"
     ]
    }
   ],
   "source": [
    "x = np.arange(42).reshape((6,7))\n",
    "%timeit x.fill(0)"
   ]
  },
  {
   "cell_type": "code",
   "execution_count": null,
   "metadata": {
    "collapsed": true
   },
   "outputs": [],
   "source": []
  }
 ],
 "metadata": {
  "kernelspec": {
   "display_name": "Python 3",
   "language": "python",
   "name": "python3"
  },
  "language_info": {
   "codemirror_mode": {
    "name": "ipython",
    "version": 3
   },
   "file_extension": ".py",
   "mimetype": "text/x-python",
   "name": "python",
   "nbconvert_exporter": "python",
   "pygments_lexer": "ipython3",
   "version": "3.6.3"
  }
 },
 "nbformat": 4,
 "nbformat_minor": 2
}
