{
 "cells": [
  {
   "cell_type": "markdown",
   "metadata": {
    "collapsed": true
   },
   "source": [
    "## Todo:\n",
    "* Define a class that holds the state of the table **DONE**\n",
    "* player 1 and 2 auto switch\n",
    "* winning rule **DONE**\n",
    "* droping physics **DONE**"
   ]
  },
  {
   "cell_type": "code",
   "execution_count": 11,
   "metadata": {
    "collapsed": true
   },
   "outputs": [],
   "source": [
    "import numpy as np\n",
    "\n",
    "class Table():\n",
    "        \n",
    "    def __init__(self):\n",
    "        self.table = np.zeros((6,7), dtype=int)\n",
    "    \n",
    "    def winning_check(self)-> bool:\n",
    "        \n",
    "        def _winning_rule(arr):\n",
    "            unique = np.unique(arr, return_counts=True)\n",
    "            winning_player = unique[0][unique[1] > 3]\n",
    "            return winning_player\n",
    "        \n",
    "        def _get_diagonals(a):\n",
    "            # hacky getting all the diagonals\n",
    "            diags = [a[::-1,:].diagonal(i) for i in range(-a.shape[0]+1,a.shape[1])]\n",
    "            diags.extend(a.diagonal(i) for i in range(a.shape[1]-1,-a.shape[0],-1))\n",
    "            return diags\n",
    "\n",
    "        def _get_axes(_table):\n",
    "            axes = []\n",
    "            for i in range(_table.shape[0]):\n",
    "                axes.append(_table[i,:])\n",
    "            for j in range(_table.shape[1]):\n",
    "                axes.append(_table[:,j])\n",
    "            return axes\n",
    "        \n",
    "        all_axes = []\n",
    "        all_axes.extend(_get_axes(self.table))\n",
    "        all_axes.extend(_get_diagonals(self.table))\n",
    "        \n",
    "        for ax in all_axes:\n",
    "            winner = _winning_rule(ax)\n",
    "            if not  winner:\n",
    "                # no winner yet\n",
    "                pass\n",
    "            else:\n",
    "                # winner!\n",
    "                return True\n",
    "        \n",
    "    def drop(self, player, j):\n",
    "        colummn_vec = self.table[:,j]\n",
    "        non_zero = np.where(colummn_vec != 0)[0]\n",
    "        \n",
    "        if non_zero.size == 0:                        \n",
    "            # sets the stone to the last element \n",
    "            self.table[self.table.shape[0]-1,j] = player\n",
    "        else:                                          \n",
    "            # sets the stone on the last 0\n",
    "            self.table[non_zero[0]-1,j] = player\n",
    "        # checking if winning for every drop!\n",
    "        if self.winning_check():\n",
    "            print(f'Player {player} wins!')\n",
    "        else:\n",
    "            return self.table \n",
    "    \n",
    "    def reset(self):\n",
    "        return self.__init__"
   ]
  }
 ],
 "metadata": {
  "kernelspec": {
   "display_name": "Python 3",
   "language": "python",
   "name": "python3"
  },
  "language_info": {
   "codemirror_mode": {
    "name": "ipython",
    "version": 3
   },
   "file_extension": ".py",
   "mimetype": "text/x-python",
   "name": "python",
   "nbconvert_exporter": "python",
   "pygments_lexer": "ipython3",
   "version": "3.6.3"
  }
 },
 "nbformat": 4,
 "nbformat_minor": 2
}
